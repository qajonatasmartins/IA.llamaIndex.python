{
 "cells": [
  {
   "cell_type": "code",
   "execution_count": 1,
   "metadata": {},
   "outputs": [
    {
     "name": "stderr",
     "output_type": "stream",
     "text": [
      "/Users/jonatasmartins/Documents/estudos/IA/LlamaIndex/.venv/lib/python3.11/site-packages/tqdm/auto.py:21: TqdmWarning: IProgress not found. Please update jupyter and ipywidgets. See https://ipywidgets.readthedocs.io/en/stable/user_install.html\n",
      "  from .autonotebook import tqdm as notebook_tqdm\n"
     ]
    }
   ],
   "source": [
    "from llama_index.core import Settings\n",
    "from llama_index.llms.groq import Groq"
   ]
  },
  {
   "cell_type": "code",
   "execution_count": 2,
   "metadata": {},
   "outputs": [],
   "source": [
    "import os\n",
    "llm = Groq(model=\"llama-3.3-70b-versatile\",\n",
    "           api_key=os.environ.get(\"GROQ_API_KEY\"))"
   ]
  },
  {
   "cell_type": "code",
   "execution_count": 3,
   "metadata": {},
   "outputs": [],
   "source": [
    "def calcular_imposto_renda(rendimento: float) -> str:\n",
    "    \"\"\"\n",
    "    Calcula o imposto de renda com base no rendimento anual.\n",
    "    \n",
    "    Args:\n",
    "        rendimento (float): Rendimento anual do indivíduo.\n",
    "        \n",
    "    Returns:\n",
    "        str: O valor do imposto devido com base no rendimento\n",
    "    \"\"\"\n",
    "    if rendimento <= 2000:\n",
    "        return \"Você está isento de pagar imposto de renda\"\n",
    "    elif 2000 < rendimento <= 5000:\n",
    "        imposto = (rendimento - 2000) * 0.10\n",
    "        return f\"O imposto devido é de R$ {imposto:.2f}, base em um rendimento de R$ {rendimento:.2f}\"\n",
    "    elif 5000 < rendimento <= 10000:\n",
    "        imposto = (rendimento - 5000) * 0.15 + 300\n",
    "        return f\"O imposto devido é de R$ {imposto:.2f}, base em um rendimento de R$ {rendimento:.2f}\"\n",
    "    else:\n",
    "        imposto = (rendimento - 10000) * 0.20 + 1050\n",
    "        return f\"O imposto devido é de R$ {imposto:.2f}, base em um rendimento de R$ {rendimento:.2f}\""
   ]
  },
  {
   "cell_type": "markdown",
   "metadata": {},
   "source": [
    "### Convertendo Função em Ferramenta"
   ]
  },
  {
   "cell_type": "code",
   "execution_count": 4,
   "metadata": {},
   "outputs": [],
   "source": [
    "from llama_index.core.tools import FunctionTool"
   ]
  },
  {
   "cell_type": "code",
   "execution_count": 5,
   "metadata": {},
   "outputs": [],
   "source": [
    "ferramenta_imposto_renda = FunctionTool.from_defaults(\n",
    "    fn=calcular_imposto_renda,\n",
    "    name=\"Calcular Imposto de Renda\",\n",
    "    description=(\n",
    "        \"Calcula o imposto de renda com base no rendimento anual.\"\n",
    "        \"Argumento: rendimento (float).\"\n",
    "        \"Retorna o valor do imposto devido de acordo com faixas de rendimento\"\n",
    "    )\n",
    ")"
   ]
  },
  {
   "cell_type": "code",
   "execution_count": 6,
   "metadata": {},
   "outputs": [],
   "source": [
    "from llama_index.core.agent import FunctionCallingAgentWorker"
   ]
  },
  {
   "cell_type": "code",
   "execution_count": 7,
   "metadata": {},
   "outputs": [],
   "source": [
    "agent_worker_imposto = FunctionCallingAgentWorker.from_tools(\n",
    "    tools=[ferramenta_imposto_renda],\n",
    "    verbose=True,\n",
    "    allow_parallel_tool_calls=True,\n",
    "    llm=llm\n",
    ")"
   ]
  },
  {
   "cell_type": "code",
   "execution_count": 8,
   "metadata": {},
   "outputs": [],
   "source": [
    "from llama_index.core.agent import AgentRunner"
   ]
  },
  {
   "cell_type": "code",
   "execution_count": 9,
   "metadata": {},
   "outputs": [],
   "source": [
    "agent_imposto = AgentRunner(agent_worker_imposto)"
   ]
  },
  {
   "cell_type": "code",
   "execution_count": 10,
   "metadata": {},
   "outputs": [
    {
     "name": "stdout",
     "output_type": "stream",
     "text": [
      "Added user message to memory: \n",
      "    Qual é o imposto de renda devido por uma pessoa com rendimento\n",
      "    anual de R$ 7.500?\n",
      "    \n",
      "=== Calling Function ===\n",
      "Calling function: Calcular Imposto de Renda with args: {\"rendimento\": 7500}\n",
      "=== Function Output ===\n",
      "O imposto devido é de R$ 675.00, base em um rendimento de R$ 7500.00\n",
      "=== LLM Response ===\n",
      "O imposto de renda devido por uma pessoa com rendimento anual de R$ 7.500 é de R$ 675,00.\n"
     ]
    }
   ],
   "source": [
    "response = agent_imposto.chat(\"\"\"\n",
    "    Qual é o imposto de renda devido por uma pessoa com rendimento\n",
    "    anual de R$ 7.500?\n",
    "    \"\"\")"
   ]
  },
  {
   "cell_type": "code",
   "execution_count": 11,
   "metadata": {},
   "outputs": [
    {
     "name": "stdout",
     "output_type": "stream",
     "text": [
      "Added user message to memory: Quem foi Machado de Assis?\n",
      "=== LLM Response ===\n",
      "Machado de Assis foi um escritor, poeta, contista e dramaturgo brasileiro, considerado um dos maiores nomes da literatura brasileira. Ele é conhecido por suas obras-primas, como \"Dom Casmurro\", \"Memórias Póstumas de Brás Cubas\" e \"Quincas Borba\", que são caracterizadas por sua profundidade psicológica, ironia e crítica social. Machado de Assis é frequentemente chamado de \"o maior nome da literatura brasileira\" e é considerado um dos principais representantes do Realismo e do Simbolismo no Brasil. Ele foi também um dos fundadores da Academia Brasileira de Letras e ocupou a cadeira número 23.\n"
     ]
    }
   ],
   "source": [
    "response = agent_imposto.chat(\"Quem foi Machado de Assis?\")"
   ]
  },
  {
   "cell_type": "code",
   "execution_count": 12,
   "metadata": {},
   "outputs": [],
   "source": [
    "import arxiv \n",
    "\n",
    "def consulta_artigos(titulo: str) -> str:\n",
    "    \"\"\"Consulta os artigos na base de dados ArXiv e retorna resultados formatados.\"\"\"\n",
    "    busca = arxiv.Search(\n",
    "        query=titulo,\n",
    "        max_results=5,\n",
    "        sort_by=arxiv.SortCriterion.Relevance\n",
    "    )\n",
    "    \n",
    "    resultados = [\n",
    "        f\"Título: {artigo.title}\\n\"\n",
    "        f\"Categoria: {artigo.primary_category}\\n\"\n",
    "        f\"Link: {artigo.entry_id}\\n\"\n",
    "        for artigo in busca.results()\n",
    "    ]\n",
    "    \n",
    "    return \"\\n\\n\".join(resultados)"
   ]
  },
  {
   "cell_type": "code",
   "execution_count": 13,
   "metadata": {},
   "outputs": [],
   "source": [
    "consulta_artigos_tool = FunctionTool.from_defaults(fn=consulta_artigos)"
   ]
  },
  {
   "cell_type": "code",
   "execution_count": 14,
   "metadata": {},
   "outputs": [],
   "source": [
    "agent_worker = FunctionCallingAgentWorker.from_tools(\n",
    "    [ferramenta_imposto_renda, consulta_artigos_tool],\n",
    "    verbose=True,\n",
    "    allow_parallel_tool_calls=False,\n",
    "    llm=llm\n",
    ")"
   ]
  },
  {
   "cell_type": "code",
   "execution_count": 19,
   "metadata": {},
   "outputs": [
    {
     "name": "stdout",
     "output_type": "stream",
     "text": [
      "Added user message to memory: Me retorne artigos sobre Teste de software\n",
      "=== Calling Function ===\n",
      "Calling function: consulta_artigos with args: {\"titulo\": \"Teste de software\"}\n"
     ]
    },
    {
     "name": "stderr",
     "output_type": "stream",
     "text": [
      "/var/folders/t6/zvqzkrzs6zz3rr3vchkmyxfc0000gn/T/ipykernel_55150/1589355692.py:15: DeprecationWarning: The 'Search.results' method is deprecated, use 'Client.results' instead\n",
      "  for artigo in busca.results()\n"
     ]
    },
    {
     "name": "stdout",
     "output_type": "stream",
     "text": [
      "=== Function Output ===\n",
      "Título: Myths and Facts about a Career in Software Testing: A Comparison between Students' Beliefs and Professionals' Experience\n",
      "Categoria: cs.SE\n",
      "Link: http://arxiv.org/abs/2311.06201v1\n",
      "\n",
      "\n",
      "Título: Software Testing and Code Refactoring: A Survey with Practitioners\n",
      "Categoria: cs.SE\n",
      "Link: http://arxiv.org/abs/2310.01719v1\n",
      "\n",
      "\n",
      "Título: Efectividad de técnicas de prueba de software aplicadas por sujetos novicios de pregrado\n",
      "Categoria: cs.SE\n",
      "Link: http://arxiv.org/abs/1504.08052v1\n",
      "\n",
      "\n",
      "Título: Requirements Engineering, Software Testing and Education: A Systematic Mapping\n",
      "Categoria: cs.SE\n",
      "Link: http://arxiv.org/abs/2304.13693v1\n",
      "\n",
      "\n",
      "Título: Social Aspects of Software Testing: Comparative Studies in Asia\n",
      "Categoria: cs.SE\n",
      "Link: http://arxiv.org/abs/2205.07781v1\n",
      "\n",
      "=== LLM Response ===\n",
      "Esses artigos podem ser úteis para você. Se precisar de mais ajuda, basta perguntar!\n"
     ]
    }
   ],
   "source": [
    "agent = AgentRunner(agent_worker)\n",
    "response = agent.chat(\"Me retorne artigos sobre Teste de software\")"
   ]
  },
  {
   "cell_type": "markdown",
   "metadata": {},
   "source": [
    "### Usando o Tavily"
   ]
  },
  {
   "cell_type": "code",
   "execution_count": 23,
   "metadata": {},
   "outputs": [],
   "source": [
    "import os \n",
    "from dotenv import load_dotenv, find_dotenv\n",
    "_ = load_dotenv(find_dotenv())"
   ]
  },
  {
   "cell_type": "code",
   "execution_count": 24,
   "metadata": {},
   "outputs": [],
   "source": [
    "tavily_key = os.environ.get(\"TAVILY_API_KEY\")"
   ]
  },
  {
   "cell_type": "code",
   "execution_count": 25,
   "metadata": {},
   "outputs": [],
   "source": [
    "from llama_index.tools.tavily_research import TavilyToolSpec\n",
    "\n",
    "tavily_tool = TavilyToolSpec(\n",
    "    api_key=tavily_key\n",
    ")"
   ]
  },
  {
   "cell_type": "code",
   "execution_count": 26,
   "metadata": {},
   "outputs": [
    {
     "name": "stdout",
     "output_type": "stream",
     "text": [
      "search\n"
     ]
    }
   ],
   "source": [
    "tavily_tool_list = tavily_tool.to_tool_list()\n",
    "for tool in tavily_tool_list:\n",
    "    print(tool.metadata.name)"
   ]
  },
  {
   "cell_type": "code",
   "execution_count": 27,
   "metadata": {},
   "outputs": [
    {
     "data": {
      "text/plain": [
       "[Document(id_='db01bb7d-3a02-4e1a-bbd8-8faae7b64977', embedding=None, metadata={'url': 'https://www.cin.ufpe.br/~processos/TAES3/Workshops_Qualidade/Workshop_Qualidade-2008-2/Testes_Baseados_em_Modelo_27112008.pdf'}, excluded_embed_metadata_keys=[], excluded_llm_metadata_keys=[], relationships={}, metadata_template='{key}: {value}', metadata_separator='\\n', text_resource=MediaResource(embeddings=None, data=None, text='Em 1950, Alan Turing escreveu o primeiro artigo científico que abordava questões sobre teste de software. Ele definia um teste operacional para demonstrar o', path=None, url=None, mimetype=None), image_resource=None, audio_resource=None, video_resource=None, text_template='{metadata_str}\\n\\n{content}'),\n",
       " Document(id_='9c459dec-567a-4893-b653-9ef5624ce602', embedding=None, metadata={'url': 'https://www.nucleodoconhecimento.com.br/tag/testes-de-software'}, excluded_embed_metadata_keys=[], excluded_llm_metadata_keys=[], relationships={}, metadata_template='{key}: {value}', metadata_separator='\\n', text_resource=MediaResource(embeddings=None, data=None, text='Confira os Artigos Científicos sobre Testes de Software. Não deixe de compartilhar o conhecimento! São milhares de Artigos Científicos sobre Testes de Software!', path=None, url=None, mimetype=None), image_resource=None, audio_resource=None, video_resource=None, text_template='{metadata_str}\\n\\n{content}'),\n",
       " Document(id_='2cdd8de3-3c65-456c-a5ba-bf287af80660', embedding=None, metadata={'url': 'https://www-di.inf.puc-rio.br/~kalinowski/INF1027/INF1027_Testes_e_Medidas.pdf'}, excluded_embed_metadata_keys=[], excluded_llm_metadata_keys=[], relationships={}, metadata_template='{key}: {value}', metadata_separator='\\n', text_resource=MediaResource(embeddings=None, data=None, text='Observe as seguintes assertivas sobre o teste de software: I - O teste ... • Artigos científicos indexados em: – Bibliotecas digitais (e.g., Scopus', path=None, url=None, mimetype=None), image_resource=None, audio_resource=None, video_resource=None, text_template='{metadata_str}\\n\\n{content}')]"
      ]
     },
     "execution_count": 27,
     "metadata": {},
     "output_type": "execute_result"
    }
   ],
   "source": [
    "tavily_tool.search(\"Me retorne artigos científicos sobre Testes de software\", max_results=3)"
   ]
  },
  {
   "cell_type": "code",
   "execution_count": 28,
   "metadata": {},
   "outputs": [],
   "source": [
    "from llama_index.core.tools import FunctionTool\n",
    "\n",
    "tavily_tool_function = FunctionTool.from_defaults(\n",
    "    fn=tavily_tool.search,\n",
    "    name=\"Tavily Search\",\n",
    "    description=\"Busca artigos com Tavily sobre um determinado tópico\"\n",
    ")"
   ]
  },
  {
   "cell_type": "code",
   "execution_count": 29,
   "metadata": {},
   "outputs": [],
   "source": [
    "agent_worker = FunctionCallingAgentWorker.from_tools(\n",
    "    tools=[tavily_tool_function],\n",
    "    verbose=True,\n",
    "    allow_parallel_tool_calls=False,\n",
    "    llm=llm\n",
    ")"
   ]
  },
  {
   "cell_type": "code",
   "execution_count": 30,
   "metadata": {},
   "outputs": [],
   "source": [
    "agent = AgentRunner(agent_worker)"
   ]
  },
  {
   "cell_type": "code",
   "execution_count": 31,
   "metadata": {},
   "outputs": [
    {
     "name": "stdout",
     "output_type": "stream",
     "text": [
      "Added user message to memory: Me retorne artigos sobre Testes de software\n",
      "=== Calling Function ===\n",
      "Calling function: Tavily Search with args: {\"query\": \"Testes de software\", \"max_results\": 10}\n",
      "=== Function Output ===\n",
      "[Document(id_='6fdef678-abb5-4cbd-ae0d-49dc79b8ee9b', embedding=None, metadata={'url': 'https://www.ibm.com/br-pt/topics/software-testing'}, excluded_embed_metadata_keys=[], excluded_llm_metadata_keys=[], relationships={}, metadata_template='{key}: {value}', metadata_separator='\\n', text_resource=MediaResource(embeddings=None, data=None, text='Testes de software são o processo de avaliar e verificar se um produto ou aplicativo de software faz o que deveria fazer. Os benefícios de bons testes incluem a prevenção de bugs e a melhoria do desempenho. [...] Os testes de software seguem um processo comum. As tarefas ou etapas incluem definir o ambiente de testes, desenvolver casos de testes, escrever scripts, analisar os resultados dos testes e apresentar relatórios de defeitos. [...] Os testes contínuos desempenham um papel crucial na aceleração do desenvolvimento de software, aprimorando a qualidade do código e evitando gargalos dispendiosos.\\n\\nO desenvolvimento de software se refere a um conjunto de atividades de ciência da computação dedicadas ao processo de criação, design, implementação e suporte de software.\\n\\nEste ebook explora por que testar mais cedo e com mais frequência é fundamental para atingir o objetivo do IBM DevOps de entrega de software mais rápida.', path=None, url=None, mimetype=None), image_resource=None, audio_resource=None, video_resource=None, text_template='{metadata_str}\\n\\n{content}'), Document(id_='ce486f85-7016-4352-9a93-b239be539cbd', embedding=None, metadata={'url': 'https://softdesign.com.br/blog/testes-de-software-no-modelo-agil/'}, excluded_embed_metadata_keys=[], excluded_llm_metadata_keys=[], relationships={}, metadata_template='{key}: {value}', metadata_separator='\\n', text_resource=MediaResource(embeddings=None, data=None, text='Os testes de software verificam se o código e o comportamento do software estão corretos e atendem aos requisitos. Eles incluem testes unitários, de integração, de sistema, de aceitação e de regressão.\\n\\nAs cinco fases de um teste de software são: planejamento de testes, design de testes, configuração do ambiente de testes, execução dos testes e avaliação e relatório dos testes. [...] Dessa maneira, realizar testes de software é algo essencial para detectar e corrigir erros antecipadamente, economizando tempo e recursos a longo prazo. Vamos ver, então, como eles podem ser aplicados à rotina da sua empresa? Boa leitura!\\n\\nQuais são os testes de software?\\n\\nOs principais testes de software são o funcional, de regressão, de unidade, de carga, de usabilidade, de segurança, de desempenho e de aceitação. [...] Vimos, neste post, como os testes de software fazem parte essencial\\xa0 do desenvolvimento de produtos digitais, garantindo que os aplicativos funcionem conforme esperado e ofereçam uma experiência positiva ao usuário.', path=None, url=None, mimetype=None), image_resource=None, audio_resource=None, video_resource=None, text_template='{metadata_str}\\n\\n{content}'), Document(id_='5dfe88da-5136-401c-b3e2-1c276f877d11', embedding=None, metadata={'url': 'https://uds.com.br/blog/ferramentas-para-teste-automatizado-de-software/'}, excluded_embed_metadata_keys=[], excluded_llm_metadata_keys=[], relationships={}, metadata_template='{key}: {value}', metadata_separator='\\n', text_resource=MediaResource(embeddings=None, data=None, text='Testar devidamente um software é uma etapa indispensável no desenvolvimento de qualquer aplicação para garantir a qualidade do software. Na prática, o teste é uma maneira de avaliar a qualidade do software e reduzir o risco de falha durante o ciclo de desenvolvimento e operação.', path=None, url=None, mimetype=None), image_resource=None, audio_resource=None, video_resource=None, text_template='{metadata_str}\\n\\n{content}'), Document(id_='f7b68720-dcbc-42fb-af75-7ed81f437bf3', embedding=None, metadata={'url': 'https://en.wikipedia.org/wiki/Software_testing'}, excluded_embed_metadata_keys=[], excluded_llm_metadata_keys=[], relationships={}, metadata_template='{key}: {value}', metadata_separator='\\n', text_resource=MediaResource(embeddings=None, data=None, text='Software testing is an activity to investigate software under test in order to provide quality-related information to stakeholders. By contrast, QA (quality assurance) is the implementation of policies and procedures intended to prevent defects from reaching customers.\\nMeasures[edit]\\nQuality measures include such topics as correctness, completeness, security and ISO/IEC 9126 requirements such as capability, reliability, efficiency, portability, maintainability, compatibility, and usability. [...] Glossaries\\nOutlines\\nvte\\nTestingCup – Polish Championship in Software Testing, Katowice, May 2016\\nSoftware testing is the act of checking whether software satisfies expectations.\\nSoftware testing can provide objective, independent information about the quality of software and the risk of its failure to a user or sponsor.[1]\\nSoftware testing can determine the correctness of software for specific scenarios but cannot determine correctness for all scenarios.[2][3] It cannot find all bugs. [...] Development testing is a software development process that involves the synchronized application of a broad spectrum of defect prevention and detection strategies in order to reduce software development risks, time, and costs. It is performed by the software developer or engineer during the construction phase of the software development lifecycle. Development testing aims to eliminate construction errors before code is promoted to other testing; this strategy is intended to increase the quality', path=None, url=None, mimetype=None), image_resource=None, audio_resource=None, video_resource=None, text_template='{metadata_str}\\n\\n{content}'), Document(id_='7d14b4cc-2298-4477-8fcd-6fdb4fcf626f', embedding=None, metadata={'url': 'https://www.atlassian.com/br/continuous-delivery/software-testing'}, excluded_embed_metadata_keys=[], excluded_llm_metadata_keys=[], relationships={}, metadata_template='{key}: {value}', metadata_separator='\\n', text_resource=MediaResource(embeddings=None, data=None, text='Software testing in continuous delivery\\n\\nLearn the benefits of software testing, and its role in continuous delivery.\\n\\nSoftware testing is an organizational process within software development in which business-critical software is verified for correctness, quality, and performance. Software testing is used to ensure that expected business systems and product features behave correctly as expected.\\n\\nSoftware testing may either be a manual or an automated process. [...] The foundational level of software testing is unit testing. Unit testing is the practice of instrumenting input and output correctness checks for individual units of code. The measurement unit, in this case, is standalone code functions or methods. [...] Learn how to run integration tests in this tutorial with Bitbucket Pipelines.\\n\\nBenefits of software testing\\n\\nSoftware testing will save an organization time and money by reducing software development and maintenance costs. Software testing builds stability guarantees into the development of new features. Testing ensures that a feature is working as expected and users are not encountering bugs.', path=None, url=None, mimetype=None), image_resource=None, audio_resource=None, video_resource=None, text_template='{metadata_str}\\n\\n{content}'), Document(id_='e2cc851e-b3fd-4fda-a33d-d5b6a17c90b3', embedding=None, metadata={'url': 'https://www.coursera.org/learn/intro-teste-de-software'}, excluded_embed_metadata_keys=[], excluded_llm_metadata_keys=[], relationships={}, metadata_template='{key}: {value}', metadata_separator='\\n', text_resource=MediaResource(embeddings=None, data=None, text=\"A necessidade das empresas em produzir software com qualidade tem aumentado a demanda por profissionais com conhecimentos e habilidades em Teste de Software. Entretanto, existe uma escassez de mÃ£o-de-obra especializada nesta Ã¡rea. Considerando essa lacuna, o curso de IntroduÃ§Ã£o ao Teste de Software foi planejado para servir como um guia para pessoas que necessitam de uma fonte de consulta e/ou aprendizado na Ã¡rea. [...] Ao completar o curso, os estudantes serÃ£o capazes de planejar e aplicar as principais tÃ©cnicas, critÃ©rios e ferramentas de teste em variados domÃ\\xadnios e tipos de software. Adicionalmente, terÃ£o a oportunidade de desenvolver habilidades essenciais para um testador, tais como pensar a partir da perspectiva do cliente, habilidade para raciocinar e se comunicar efetivamente, capacidade de se adaptar Ã\\xa0s mudanÃ§as do projeto, curiosidade para compreender o produto que serÃ¡ testado, busca [...] Use este mÃ³dulo para definir e aplicar uma (ou mais) tÃ©cnicas de Teste para um determinado algoritmo, software ou mÃ³dulo, considerando um contexto no qual vocÃª esteja envolvido (curso presencial, trabalho, etc.). O resultado final deve ser um documento de Planejamento, ExecuÃ§Ã£o e AnÃ¡lise da Atividade de Teste relatando o seu caso.\\n\\nWhat's included\\n\\n4 videos3 assignments1 peer review\\n\\n4 videosâ\\x80¢Total 16 minutes\\n\\n3 assignmentsâ\\x80¢Total 90 minutes\\n\\n1 peer reviewâ\\x80¢Total 60 minutes\", path=None, url=None, mimetype=None), image_resource=None, audio_resource=None, video_resource=None, text_template='{metadata_str}\\n\\n{content}'), Document(id_='09d2637b-1e70-4562-ae5a-0c85bc7b47fc', embedding=None, metadata={'url': 'https://www.ibm.com/think/topics/software-testing'}, excluded_embed_metadata_keys=[], excluded_llm_metadata_keys=[], relationships={}, metadata_template='{key}: {value}', metadata_separator='\\n', text_resource=MediaResource(embeddings=None, data=None, text='What Is Software Testing? | IBM\\nMy IBM Log in Subscribe   \\nWhat is software testing?\\nDevOps\\nLink copied\\nWhat is software testing?\\nSoftware testing is the process of evaluating and verifying that a software product or application does what it’s supposed to do. The benefits of good testing include preventing bugs and improving performance.\\nVerify and validate application quality to ensure it meets user requirements [...] When development leaves ample room for testing, it improves software reliability and high-quality applications are delivered with few errors. A system that meets or even exceeds customer expectations leads to potentially more sales and greater market share.\\nSoftware testing best practices\\nSoftware testing follows a common process. Tasks or steps include defining the test environment, developing test cases, writing scripts, analyzing test results and submitting defect reports. [...] Acceptance testing: Verifying whether the whole system works as intended.\\nCode review: Confirming that new and modified software is following an organization’s coding standards and adheres to its best practices.\\nIntegration testing: Ensuring that software components or functions operate together.\\nUnit testing: Validating that each software unit runs as expected. A unit is the smallest testable component of an application.', path=None, url=None, mimetype=None), image_resource=None, audio_resource=None, video_resource=None, text_template='{metadata_str}\\n\\n{content}')]\n",
      "=== LLM Response ===\n",
      "Os testes de software são um processo de avaliar e verificar se um produto ou aplicativo de software faz o que deveria fazer. Os benefícios de bons testes incluem a prevenção de bugs e a melhoria do desempenho. Os testes de software seguem um processo comum, que inclui definir o ambiente de testes, desenvolver casos de testes, escrever scripts, analisar os resultados dos testes e apresentar relatórios de defeitos. Existem diferentes tipos de testes, como testes unitários, de integração, de sistema, de aceitação e de regressão. Além disso, os testes contínuos desempenham um papel crucial na aceleração do desenvolvimento de software, aprimorando a qualidade do código e evitando gargalos dispendiosos.\n"
     ]
    }
   ],
   "source": [
    "response = agent.chat(\"Me retorne artigos sobre Testes de software\")"
   ]
  },
  {
   "cell_type": "code",
   "execution_count": 32,
   "metadata": {},
   "outputs": [
    {
     "name": "stdout",
     "output_type": "stream",
     "text": [
      "Os testes de software são um processo de avaliar e verificar se um produto ou aplicativo de software faz o que deveria fazer. Os benefícios de bons testes incluem a prevenção de bugs e a melhoria do desempenho. Os testes de software seguem um processo comum, que inclui definir o ambiente de testes, desenvolver casos de testes, escrever scripts, analisar os resultados dos testes e apresentar relatórios de defeitos. Existem diferentes tipos de testes, como testes unitários, de integração, de sistema, de aceitação e de regressão. Além disso, os testes contínuos desempenham um papel crucial na aceleração do desenvolvimento de software, aprimorando a qualidade do código e evitando gargalos dispendiosos.\n"
     ]
    }
   ],
   "source": [
    "print(response)"
   ]
  },
  {
   "cell_type": "code",
   "execution_count": 33,
   "metadata": {},
   "outputs": [],
   "source": [
    "from llama_index.core import SimpleDirectoryReader, VectorStoreIndex"
   ]
  },
  {
   "cell_type": "code",
   "execution_count": 34,
   "metadata": {},
   "outputs": [
    {
     "name": "stderr",
     "output_type": "stream",
     "text": [
      "Ignoring wrong pointing object 16 0 (offset 0)\n",
      "Ignoring wrong pointing object 18 0 (offset 0)\n",
      "Ignoring wrong pointing object 20 0 (offset 0)\n",
      "Ignoring wrong pointing object 22 0 (offset 0)\n",
      "Ignoring wrong pointing object 42 0 (offset 0)\n",
      "Ignoring wrong pointing object 50 0 (offset 0)\n",
      "Ignoring wrong pointing object 52 0 (offset 0)\n",
      "Ignoring wrong pointing object 54 0 (offset 0)\n",
      "Ignoring wrong pointing object 56 0 (offset 0)\n",
      "Ignoring wrong pointing object 58 0 (offset 0)\n",
      "Ignoring wrong pointing object 70 0 (offset 0)\n",
      "Ignoring wrong pointing object 72 0 (offset 0)\n",
      "Ignoring wrong pointing object 89 0 (offset 0)\n",
      "Ignoring wrong pointing object 91 0 (offset 0)\n",
      "Ignoring wrong pointing object 103 0 (offset 0)\n",
      "Ignoring wrong pointing object 108 0 (offset 0)\n",
      "Ignoring wrong pointing object 149 0 (offset 0)\n",
      "Ignoring wrong pointing object 155 0 (offset 0)\n",
      "Ignoring wrong pointing object 158 0 (offset 0)\n",
      "Ignoring wrong pointing object 160 0 (offset 0)\n",
      "Ignoring wrong pointing object 163 0 (offset 0)\n",
      "Ignoring wrong pointing object 165 0 (offset 0)\n"
     ]
    }
   ],
   "source": [
    "url = \"files/LLM.pdf\"\n",
    "artigo = SimpleDirectoryReader(input_files=[url]).load_data()"
   ]
  },
  {
   "cell_type": "code",
   "execution_count": 35,
   "metadata": {},
   "outputs": [],
   "source": [
    "url = \"files/LLM_2.pdf\"\n",
    "tutorial = SimpleDirectoryReader(input_files=[url]).load_data()"
   ]
  },
  {
   "cell_type": "markdown",
   "metadata": {},
   "source": [
    "### Gerar os Embeddings"
   ]
  },
  {
   "cell_type": "code",
   "execution_count": 36,
   "metadata": {},
   "outputs": [],
   "source": [
    "from llama_index.embeddings.huggingface import HuggingFaceEmbedding"
   ]
  },
  {
   "cell_type": "code",
   "execution_count": 37,
   "metadata": {},
   "outputs": [],
   "source": [
    "Settings.embed_model = HuggingFaceEmbedding(\n",
    "    model_name = \"intfloat/multilingual-e5-large\"\n",
    ")"
   ]
  },
  {
   "cell_type": "code",
   "execution_count": 38,
   "metadata": {},
   "outputs": [],
   "source": [
    "artigo_index = VectorStoreIndex.from_documents(artigo)\n",
    "tutorial_index = VectorStoreIndex.from_documents(tutorial)"
   ]
  },
  {
   "cell_type": "code",
   "execution_count": 39,
   "metadata": {},
   "outputs": [],
   "source": [
    "artigo_index.storage_context.persist(persist_dir=\"artigo\")\n",
    "tutorial_index.storage_context.persist(persist_dir=\"tutorial\")"
   ]
  },
  {
   "cell_type": "markdown",
   "metadata": {},
   "source": [
    "### Engine de Busca"
   ]
  },
  {
   "cell_type": "code",
   "execution_count": 40,
   "metadata": {},
   "outputs": [],
   "source": [
    "from llama_index.core import StorageContext, load_index_from_storage"
   ]
  },
  {
   "cell_type": "code",
   "execution_count": 41,
   "metadata": {},
   "outputs": [],
   "source": [
    "storage_context = StorageContext.from_defaults(\n",
    "    persist_dir=\"artigo\"\n",
    ")\n",
    "artigo_index = load_index_from_storage(storage_context)\n",
    "\n",
    "storage_context = StorageContext.from_defaults(\n",
    "    persist_dir=\"tutorial\"\n",
    ")\n",
    "tutorial_index = load_index_from_storage(storage_context)\n"
   ]
  },
  {
   "cell_type": "code",
   "execution_count": 42,
   "metadata": {},
   "outputs": [],
   "source": [
    "artigo_engine = artigo_index.as_query_engine(similarity_top_k=3, llm=llm)\n",
    "tutorial_engine = tutorial_index.as_query_engine(similarity_top_k=3, llm=llm)"
   ]
  },
  {
   "cell_type": "code",
   "execution_count": 43,
   "metadata": {},
   "outputs": [],
   "source": [
    "from llama_index.core.tools import QueryEngineTool, ToolMetadata"
   ]
  },
  {
   "cell_type": "code",
   "execution_count": 44,
   "metadata": {},
   "outputs": [],
   "source": [
    "query_engine_tools = [\n",
    "    QueryEngineTool(\n",
    "        query_engine=artigo_engine,\n",
    "        metadata=ToolMetadata(\n",
    "            name=\"artigo_engine\",\n",
    "            description=(\n",
    "                \"Fornece informações sobre LLM e LangChain.\"\n",
    "                \"Use uma pergunta detalhada em texto simples como entrada para a ferramenta\"\n",
    "            )\n",
    "        )\n",
    "    ),\n",
    "    QueryEngineTool(\n",
    "        query_engine=tutorial_engine,\n",
    "        metadata=ToolMetadata(\n",
    "            name=\"tutorial_engine\",\n",
    "            description=(\n",
    "                \"Fornece informações sobre casos de uso e aplicações em LLMs.\"\n",
    "                \"Use uma pergunta detalhada em texto simples como entrada para a ferramenta\"\n",
    "            )\n",
    "        )\n",
    "    ),\n",
    "]"
   ]
  },
  {
   "cell_type": "code",
   "execution_count": 45,
   "metadata": {},
   "outputs": [],
   "source": [
    "agent_worker = FunctionCallingAgentWorker.from_tools(\n",
    "    query_engine_tools,\n",
    "    verbose=True,\n",
    "    allow_parallel_tool_calls=True,\n",
    "    llm=llm\n",
    ")\n",
    "\n",
    "agent_document = AgentRunner(agent_worker)"
   ]
  },
  {
   "cell_type": "code",
   "execution_count": 46,
   "metadata": {},
   "outputs": [
    {
     "name": "stdout",
     "output_type": "stream",
     "text": [
      "Added user message to memory: Quais as principais aplicações posso construir com LLM e LangChain?\n",
      "=== Calling Function ===\n",
      "Calling function: tutorial_engine with args: {\"input\": \"Quais as principais aplica\\u00e7\\u00f5es posso construir com LLM e LangChain?\"}\n",
      "=== Function Output ===\n",
      "As principais aplicações que você pode construir com LLM (Large Language Models) e LangChain incluem:\n",
      "\n",
      "1. **Criação e aprimoramento de conteúdo**: Geração automática de texto, assistência na redação, tradução automática, resumo de textos, planejamento e roteiro de conteúdo, brainstorming e programação.\n",
      "2. **Análise e organização de informações**: Análise de sentimento, extração de informações, classificação de textos, revisão técnica e extração de dados específicos de documentos grandes.\n",
      "3. **Interação e automação**: Chatbots, perguntas e respostas, geração de respostas a perguntas com base em um corpus, e interação com chatbots com entrada não apenas de texto, mas também de imagem, áudio e vídeo.\n",
      "4. **Casos de uso em produção**: Chatbots internos, extração de informações, suporte ao centro de atendimento ao cliente, classificação inteligente de documentos, banco conversacional e assistência na elaboração de relatórios de auditoria.\n",
      "\n",
      "Essas aplicações podem ser construídas utilizando a combinação de LLM e LangChain, que permite criar soluções personalizadas e inovadoras para atender às necessidades específicas de sua empresa ou projeto.\n",
      "=== Calling Function ===\n",
      "Calling function: tutorial_engine with args: {\"input\": \"Quais as principais aplica\\u00e7\\u00f5es posso construir com LLM e LangChain?\"}\n",
      "=== Function Output ===\n",
      "As principais aplicações que você pode construir com LLM (Large Language Models) e LangChain incluem:\n",
      "\n",
      "1. **Criação e aprimoramento de conteúdo**: Geração automática de texto, assistência na redação, tradução automática, resumo de textos, planejamento e roteiro de conteúdo, brainstorming e programação.\n",
      "2. **Análise e organização de informações**: Análise de sentimento, extração de informações, classificação de textos, revisão técnica e extração de dados específicos de documentos grandes.\n",
      "3. **Interação e automação**: Chatbots, perguntas e respostas, geração de respostas a perguntas com base em um corpus, e interação com chatbots com entrada não apenas de texto, mas também de imagem, áudio e vídeo.\n",
      "4. **Casos de uso em produção**: Chatbots internos, extração de informações, suporte ao centro de atendimento ao cliente, classificação inteligente de documentos, banco conversacional e assistência na elaboração de relatórios de auditoria.\n",
      "\n",
      "Essas aplicações podem ser construídas utilizando a combinação de LLM e LangChain, que permite a criação de soluções personalizadas e inovadoras para atender às necessidades específicas de cada empresa ou organização.\n",
      "=== Calling Function ===\n",
      "Calling function: tutorial_engine with args: {\"input\": \"Quais as principais aplica\\u00e7\\u00f5es posso construir com LLM e LangChain?\"}\n",
      "=== Function Output ===\n",
      "As principais aplicações que você pode construir com LLM (Large Language Models) e LangChain incluem:\n",
      "\n",
      "1. **Criação e aprimoramento de conteúdo**: Geração automática de texto, assistência na redação, tradução automática, resumo de textos, planejamento e roteiro de conteúdo, brainstorming e programação.\n",
      "2. **Análise e organização de informações**: Análise de sentimento, extração de informações, classificação de textos, revisão técnica e extração de dados específicos de documentos grandes.\n",
      "3. **Interação e automação**: Chatbots, perguntas e respostas, geração de respostas a perguntas com base em um corpus, e interação com chatbots com entrada não apenas de texto, mas também de imagem, áudio e vídeo.\n",
      "4. **Casos de uso em produção**: Chatbots internos, extração de informações, suporte ao centro de atendimento ao cliente, classificação inteligente de documentos, banco conversacional e assistência na elaboração de relatórios de auditoria.\n",
      "\n",
      "Essas aplicações podem ser construídas utilizando a combinação de LLM e LangChain, que permite criar soluções personalizadas e inovadoras para atender às necessidades específicas de sua empresa ou projeto.\n",
      "=== Calling Function ===\n",
      "Calling function: tutorial_engine with args: {\"input\": \"Quais as principais aplica\\u00e7\\u00f5es posso construir com LLM e LangChain?\"}\n",
      "=== Function Output ===\n",
      "As principais aplicações que você pode construir com LLM (Large Language Models) e LangChain incluem:\n",
      "\n",
      "1. **Criação e aprimoramento de conteúdo**: Geração automática de texto, assistência na redação, tradução automática, resumo de textos, planejamento e roteiro de conteúdo, brainstorming e programação.\n",
      "2. **Análise e organização de informações**: Análise de sentimento, extração de informações, classificação de textos, revisão técnica e extração de dados específicos de documentos grandes.\n",
      "3. **Interação e automação**: Chatbots, perguntas e respostas, geração de respostas a perguntas com base em um corpus, e interação com chatbots com entrada não apenas de texto, mas também de imagem, áudio e vídeo.\n",
      "4. **Casos de uso em produção**: Chatbots internos, extração de informações, suporte ao centro de atendimento ao cliente, classificação inteligente de documentos, banco conversacional e assistência na elaboração de relatórios de auditoria.\n",
      "\n",
      "Essas aplicações podem ser construídas utilizando a combinação de LLM e LangChain, que permite criar soluções personalizadas e inovadoras para atender às necessidades específicas de sua empresa ou organização.\n",
      "=== Calling Function ===\n",
      "Calling function: tutorial_engine with args: {\"input\": \"Quais as principais aplica\\u00e7\\u00f5es posso construir com LLM e LangChain?\"}\n",
      "=== Function Output ===\n",
      "As principais aplicações que você pode construir com LLM e LangChain incluem:\n",
      "\n",
      "1. Criação e aprimoramento de conteúdo, como geração automática de texto, assistência na redação, tradução automática, resumo de textos e planejamento de conteúdo.\n",
      "2. Análise e organização de informações, como análise de sentimento, extração de informações, classificação de textos e revisão técnica.\n",
      "3. Interação e automação, como chatbots, perguntas e respostas, e geração de respostas a consultas com base em um corpus.\n",
      "4. Aplicações multimodais, como geração de conteúdo audiovisual, interpretação de dados de imagens, tradução de conteúdo multimídia e criação de experiências interativas ricas.\n",
      "\n",
      "Além disso, você pode construir aplicações práticas, como:\n",
      "\n",
      "* Chatbots internos para facilitar o acesso a informações da empresa\n",
      "* Extração de informações de documentos grandes e complexos\n",
      "* Suporte ao centro de atendimento ao cliente com técnicas de transcrição e resumo\n",
      "* Classificação inteligente de documentos com base em seu conteúdo\n",
      "* Banco conversacional para oferecer experiências avançadas de conversação aos clientes\n",
      "* Assistência na elaboração de relatórios de auditoria com funções de auditoria interna\n",
      "\n",
      "Essas são apenas algumas das principais aplicações que você pode construir com LLM e LangChain. A possibilidade de aplicações é ampla e depende das necessidades e objetivos específicos do seu projeto.\n"
     ]
    }
   ],
   "source": [
    "response = agent_document.chat(\n",
    "    \"Quais as principais aplicações posso construir com LLM e LangChain?\"\n",
    ")"
   ]
  },
  {
   "cell_type": "code",
   "execution_count": 47,
   "metadata": {},
   "outputs": [
    {
     "name": "stdout",
     "output_type": "stream",
     "text": [
      "Added user message to memory: Quais as principais tendências em LangChain e LLM?\n",
      "=== Calling Function ===\n",
      "Calling function: artigo_engine with args: {\"input\": \"Quais as principais tend\\u00e7as em LangChain e LLM?\"}\n",
      "=== Function Output ===\n",
      "As principais tendências em LangChain e LLM incluem o uso de modelos de código aberto, como os transformadores da Hugging Face, que permitem que os usuários ajustem os modelos aos seus próprios dados e os usem de forma personalizada. Além disso, há uma tendência em tornar os LLMs mais acessíveis e fáceis de usar, com melhorias em frameworks como o MLflow. Outra tendência é a importância de ter uma base sólida de dados para implementar e usar os LLMs de forma eficaz. A capacidade de treinar os modelos com dados específicos e ajustá-los a domínios específicos também é uma tendência importante.\n",
      "=== Calling Function ===\n",
      "Calling function: artigo_engine with args: {\"input\": \"Quais as principais tend\\u00e7as em LangChain e LLM?\"}\n",
      "=== Function Output ===\n",
      "As principais tendências em LangChain e LLM incluem o uso de modelos de código aberto, como os transformadores da Hugging Face, que podem ser facilmente integrados e ajustados para atender às necessidades específicas dos usuários. Além disso, há um movimento em direção à criação de modelos personalizados e treinados com dados específicos, o que permite uma melhor adaptação aos domínios e necessidades individuais. Outra tendência é a importância de ter uma base sólida de dados para o uso eficaz dos LLMs, bem como a necessidade de controle total e compreensão dos modelos de linguagem.\n",
      "=== Calling Function ===\n",
      "Calling function: artigo_engine with args: {\"input\": \"Quais as principais tend\\u00e7as em LangChain e LLM?\"}\n",
      "=== Function Output ===\n",
      "As principais tendências em LangChain e LLM incluem o uso de modelos de código aberto, como os transformadores da Hugging Face, que permitem que os usuários ajustem os modelos aos seus próprios dados e os usem como objetos Python. Além disso, há uma tendência em direção à criação de uma base sólida de dados para apoiar o uso e a implementação dos LLMs. Outra tendência é a capacidade de treinar modelos de código aberto com dados específicos, melhorando significativamente o desempenho deles em um domínio específico. Isso permite que as organizações tenham controle total e compreensão de seus LLMs, o que é fundamental para o uso eficaz dessas ferramentas.\n",
      "=== Calling Function ===\n",
      "Calling function: artigo_engine with args: {\"input\": \"Quais as principais tend\\u00e7as em LangChain e LLM?\"}\n",
      "=== Function Output ===\n",
      "As principais tendências em LangChain e LLM incluem o uso de modelos de código aberto, como os transformadores da Hugging Face, que permitem que os usuários ajustem os modelos aos seus próprios dados e os usem como objetos Python. Além disso, há uma tendência em direção à criação de uma base sólida de dados para apoiar o uso e a implementação dos LLMs. Outra tendência é a capacidade de treinar modelos de código aberto com dados específicos, melhorando significativamente o desempenho deles em um domínio específico. Isso permite que as organizações tenham controle total e compreensão de seus LLMs, o que é fundamental para o uso eficaz dessas ferramentas.\n",
      "=== Calling Function ===\n",
      "Calling function: artigo_engine with args: {\"input\": \"Quais as principais tend\\u00e7as em LangChain e LLM?\"}\n",
      "=== Function Output ===\n",
      "As principais tendências em LangChain e LLM incluem o uso de modelos de código aberto, como os transformadores da Hugging Face, que permitem que os usuários ajustem os modelos aos seus próprios dados e os usem como objetos Python. Além disso, há uma tendência em tornar os LLMs mais acessíveis e fáceis de usar, com melhorias em frameworks como o MLflow. Outra tendência é a importância de ter uma base sólida de dados para implementar e usar os LLMs de forma eficaz.\n"
     ]
    }
   ],
   "source": [
    "response = agent_document.chat(\n",
    "    \"Quais as principais tendências em LangChain e LLM?\"\n",
    ")"
   ]
  },
  {
   "cell_type": "markdown",
   "metadata": {},
   "source": [
    "### Agente ReAct"
   ]
  },
  {
   "cell_type": "code",
   "execution_count": 48,
   "metadata": {},
   "outputs": [],
   "source": [
    "from llama_index.core.agent import ReActAgent"
   ]
  },
  {
   "cell_type": "code",
   "execution_count": 49,
   "metadata": {},
   "outputs": [],
   "source": [
    "agent = ReActAgent.from_tools(\n",
    "    query_engine_tools,\n",
    "    verbose=True,\n",
    "    llm=llm\n",
    ")"
   ]
  },
  {
   "cell_type": "code",
   "execution_count": 50,
   "metadata": {},
   "outputs": [
    {
     "name": "stdout",
     "output_type": "stream",
     "text": [
      "> Running step 6ace7110-c441-46ca-b1ff-99c0e64331ef. Step input: Quais as principais ferramentas usadas em LangChain?\n",
      "\u001b[1;3;38;5;200mThought: The current language of the user is: Portuguese. I need to use a tool to help me answer the question.\n",
      "Action: artigo_engine\n",
      "Action Input: {'input': 'Quais as principais ferramentas usadas em LangChain?'}\n",
      "\u001b[0m\u001b[1;3;34mObservation: Não há menção às principais ferramentas usadas em LangChain no contexto fornecido. O contexto discute grandes modelos de linguagem (LLM), serviços proprietários, modelos de código aberto e o desenvolvimento histórico dos LLMs, mas não menciona LangChain ou suas ferramentas.\n",
      "\u001b[0m> Running step a6293fc1-cfac-4d34-ad8a-e5327476a342. Step input: None\n",
      "\u001b[1;3;38;5;200mThought: A ferramenta artigo_engine não forneceu informações suficientes sobre as principais ferramentas usadas em LangChain. Vou tentar novamente com a ferramenta tutorial_engine.\n",
      "Action: tutorial_engine\n",
      "Action Input: {'input': 'Quais as principais ferramentas usadas em LangChain?'}\n",
      "\u001b[0m\u001b[1;3;34mObservation: Não há menção específica às principais ferramentas usadas em LangChain no contexto fornecido. No entanto, são mencionadas várias ferramentas e tecnologias relacionadas a LLMs, como GitHub Copilot, StarCoder, Microsoft 365 Copilot e Google Workspace, que utilizam LLMs para auxiliar em tarefas como desenvolvimento de software e processamento de linguagem. Além disso, são listados vários modelos de LLMs, como Llama, Vicuna, Falcon, Mistral, Gemma, entre outros, que são usados em diferentes aplicações e domínios.\n",
      "\u001b[0m> Running step eca7cc08-479f-4fc6-86c7-068a12b7696c. Step input: None\n",
      "\u001b[1;3;38;5;200mThought: A ferramenta tutorial_engine forneceu informações sobre ferramentas e tecnologias relacionadas a LLMs, mas não especificou as principais ferramentas usadas em LangChain. No entanto, posso inferir que LangChain provavelmente utiliza modelos de LLMs como Llama, Vicuna, Falcon, Mistral, Gemma, entre outros, para desenvolver suas aplicações e serviços.\n",
      "Thought: I can answer without using any more tools. I'll use the user's language to answer\n",
      "Answer: As principais ferramentas usadas em LangChain provavelmente incluem modelos de LLMs como Llama, Vicuna, Falcon, Mistral, Gemma, entre outros, que são utilizados em diferentes aplicações e domínios. Além disso, podem ser utilizadas ferramentas e tecnologias relacionadas a LLMs, como GitHub Copilot, StarCoder, Microsoft 365 Copilot e Google Workspace, para auxiliar em tarefas como desenvolvimento de software e processamento de linguagem. No entanto, é importante notar que a informação exata sobre as principais ferramentas usadas em LangChain não foi fornecida pelas ferramentas utilizadas.\n",
      "\u001b[0m"
     ]
    }
   ],
   "source": [
    "response = agent.chat(\"Quais as principais ferramentas usadas em LangChain?\")"
   ]
  },
  {
   "cell_type": "code",
   "execution_count": 51,
   "metadata": {},
   "outputs": [
    {
     "name": "stdout",
     "output_type": "stream",
     "text": [
      "> Running step c5cbfe89-8860-474a-b057-7b4d47007201. Step input: Quais as principais tendências em LangChain que eu deveria estudar?\n",
      "\u001b[1;3;38;5;200mThought: A pergunta é sobre tendências em LangChain, então eu preciso usar uma ferramenta para obter informações sobre o assunto.\n",
      "Action: artigo_engine\n",
      "Action Input: {'input': 'principais tendências em LangChain', 'type': 'string'}\n",
      "\u001b[0m\u001b[1;3;34mObservation: Não há informações sobre LangChain nos textos fornecidos. No entanto, é possível identificar algumas tendências relacionadas aos grandes modelos de linguagem (LLMs) que podem estar relacionadas ao contexto mais amplo:\n",
      "\n",
      "1. **Aumento da acessibilidade**: Com o lançamento de interfaces web simples, como o ChatGPT, os LLMs estão se tornando mais acessíveis a um público mais amplo.\n",
      "2. **Melhoria dos dados de treinamento**: A coleta e análise de grandes volumes de dados de alta qualidade estão melhorando drasticamente o desempenho dos modelos.\n",
      "3. **Avanços em técnicas de treinamento**: A integração do feedback humano no processo de treinamento e o uso de unidades de processamento gráfico (GPUs) estão resultando em grandes melhorias de desempenho.\n",
      "4. **Uso de modelos de código aberto**: Os modelos de código aberto estão se tornando mais acessíveis e permitem que os usuários ajustem os modelos aos seus próprios dados, melhorando o desempenho em domínios específicos.\n",
      "\n",
      "Essas tendências podem estar relacionadas ao contexto de LangChain, mas não há informações específicas sobre isso nos textos fornecidos.\n",
      "\u001b[0m> Running step ad03213e-d604-41cc-b887-d323bb8b7179. Step input: None\n",
      "\u001b[1;3;38;5;200mThought: A ferramenta forneceu algumas tendências relacionadas a LLMs, que podem estar relacionadas ao contexto de LangChain, mas não há informações específicas sobre LangChain. Vou tentar obter mais informações sobre o assunto.\n",
      "Action: tutorial_engine\n",
      "Action Input: {'input': 'tendências em LangChain', 'type': 'string'}\n",
      "\u001b[0m\u001b[1;3;34mObservation: Não há informações específicas sobre tendências em LangChain no texto fornecido. No entanto, é possível inferir que o desenvolvimento e a aplicação de Large Language Models (LLMs) estão avançando rapidamente, com uma crescente democratização do acesso à tecnologia de IA e uma maior integração dos LLMs em ferramentas de desenvolvimento de software e escritório. Além disso, a proliferação de LLMs de código aberto e a colaboração na comunidade de IA podem estar impulsionando inovações e melhorias nos modelos de linguagem.\n",
      "\u001b[0m> Running step 0b37428f-34fc-4a69-9986-eb778958e844. Step input: None\n",
      "\u001b[1;3;38;5;200mThought: As ferramentas não forneceram informações específicas sobre tendências em LangChain, mas forneceram informações sobre tendências relacionadas a LLMs. Posso usar essas informações para fornecer uma resposta geral sobre tendências em LangChain.\n",
      "Answer: As tendências em LangChain provavelmente incluem o aumento da acessibilidade, a melhoria dos dados de treinamento, os avanços em técnicas de treinamento e o uso de modelos de código aberto. Além disso, a democratização do acesso à tecnologia de IA e a integração dos LLMs em ferramentas de desenvolvimento de software e escritório também podem estar impulsionando inovações e melhorias nos modelos de linguagem. No entanto, é importante notar que não há informações específicas sobre tendências em LangChain disponíveis.\n",
      "\u001b[0m"
     ]
    }
   ],
   "source": [
    "response = agent.chat(\"Quais as principais tendências em LangChain que eu deveria estudar?\")"
   ]
  }
 ],
 "metadata": {
  "kernelspec": {
   "display_name": ".venv",
   "language": "python",
   "name": "python3"
  },
  "language_info": {
   "codemirror_mode": {
    "name": "ipython",
    "version": 3
   },
   "file_extension": ".py",
   "mimetype": "text/x-python",
   "name": "python",
   "nbconvert_exporter": "python",
   "pygments_lexer": "ipython3",
   "version": "3.11.5"
  }
 },
 "nbformat": 4,
 "nbformat_minor": 2
}
